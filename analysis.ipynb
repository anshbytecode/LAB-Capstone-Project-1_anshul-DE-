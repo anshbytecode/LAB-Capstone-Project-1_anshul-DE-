{
 "cells": [
  {
   "cell_type": "code",
   "execution_count": 2,
   "id": "921afa24",
   "metadata": {},
   "outputs": [
    {
     "data": {
      "text/plain": [
       "True"
      ]
     },
     "execution_count": 2,
     "metadata": {},
     "output_type": "execute_result"
    }
   ],
   "source": [
    "import os\n",
    "from dotenv import load_dotenv\n",
    "load_dotenv()  # Reads .env file\n"
   ]
  },
  {
   "cell_type": "code",
   "execution_count": 3,
   "id": "f61fe8f0",
   "metadata": {},
   "outputs": [
    {
     "name": "stdout",
     "output_type": "stream",
     "text": [
      "DB_NAME: retaildb\n",
      "DB_USER: postgres\n",
      "DB_PASS: your_postgres_password_here\n"
     ]
    }
   ],
   "source": [
    "print(\"DB_NAME:\", os.getenv(\"DB_NAME\"))\n",
    "print(\"DB_USER:\", os.getenv(\"DB_USER\"))\n",
    "print(\"DB_PASS:\", os.getenv(\"DB_PASS\"))\n"
   ]
  },
  {
   "cell_type": "code",
   "execution_count": 5,
   "id": "3bbff6aa",
   "metadata": {},
   "outputs": [
    {
     "name": "stdout",
     "output_type": "stream",
     "text": [
      "Requirement already satisfied: python-dotenv in c:\\users\\hp\\anaconda3\\lib\\site-packages (1.1.0)\n",
      "Note: you may need to restart the kernel to use updated packages.\n"
     ]
    }
   ],
   "source": [
    "%pip install python-dotenv\n"
   ]
  },
  {
   "cell_type": "code",
   "execution_count": 6,
   "id": "1b4cc918",
   "metadata": {},
   "outputs": [
    {
     "name": "stdout",
     "output_type": "stream",
     "text": [
      "✅ dotenv loaded\n"
     ]
    }
   ],
   "source": [
    "import os\n",
    "from dotenv import load_dotenv\n",
    "\n",
    "load_dotenv()\n",
    "print(\"✅ dotenv loaded\")\n"
   ]
  }
 ],
 "metadata": {
  "kernelspec": {
   "display_name": "base",
   "language": "python",
   "name": "python3"
  },
  "language_info": {
   "codemirror_mode": {
    "name": "ipython",
    "version": 3
   },
   "file_extension": ".py",
   "mimetype": "text/x-python",
   "name": "python",
   "nbconvert_exporter": "python",
   "pygments_lexer": "ipython3",
   "version": "3.13.5"
  }
 },
 "nbformat": 4,
 "nbformat_minor": 5
}
